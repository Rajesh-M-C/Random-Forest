{
 "cells": [
  {
   "cell_type": "code",
   "execution_count": 1,
   "id": "ad20666d",
   "metadata": {},
   "outputs": [],
   "source": [
    "import numpy as np\n",
    "import pandas as pd\n",
    "import matplotlib.pyplot as plt\n",
    "from sklearn.ensemble import AdaBoostClassifier\n",
    "from sklearn.tree import DecisionTreeClassifier\n",
    "from sklearn import metrics\n",
    "%matplotlib inline\n",
    "import warnings\n",
    "warnings.filterwarnings(\"ignore\")"
   ]
  },
  {
   "cell_type": "code",
   "execution_count": 2,
   "id": "46b5a7da",
   "metadata": {},
   "outputs": [],
   "source": [
    "#Load data\n",
    "data = pd.read_csv(\"bank-additional-full.csv\",delimiter = \";\")"
   ]
  },
  {
   "cell_type": "code",
   "execution_count": 3,
   "id": "dc6a58c2",
   "metadata": {},
   "outputs": [
    {
     "data": {
      "text/html": [
       "<div>\n",
       "<style scoped>\n",
       "    .dataframe tbody tr th:only-of-type {\n",
       "        vertical-align: middle;\n",
       "    }\n",
       "\n",
       "    .dataframe tbody tr th {\n",
       "        vertical-align: top;\n",
       "    }\n",
       "\n",
       "    .dataframe thead th {\n",
       "        text-align: right;\n",
       "    }\n",
       "</style>\n",
       "<table border=\"1\" class=\"dataframe\">\n",
       "  <thead>\n",
       "    <tr style=\"text-align: right;\">\n",
       "      <th></th>\n",
       "      <th>age</th>\n",
       "      <th>job</th>\n",
       "      <th>marital</th>\n",
       "      <th>education</th>\n",
       "      <th>default</th>\n",
       "      <th>housing</th>\n",
       "      <th>loan</th>\n",
       "      <th>contact</th>\n",
       "      <th>month</th>\n",
       "      <th>day_of_week</th>\n",
       "      <th>...</th>\n",
       "      <th>campaign</th>\n",
       "      <th>pdays</th>\n",
       "      <th>previous</th>\n",
       "      <th>poutcome</th>\n",
       "      <th>emp.var.rate</th>\n",
       "      <th>cons.price.idx</th>\n",
       "      <th>cons.conf.idx</th>\n",
       "      <th>euribor3m</th>\n",
       "      <th>nr.employed</th>\n",
       "      <th>y</th>\n",
       "    </tr>\n",
       "  </thead>\n",
       "  <tbody>\n",
       "    <tr>\n",
       "      <th>0</th>\n",
       "      <td>56</td>\n",
       "      <td>housemaid</td>\n",
       "      <td>married</td>\n",
       "      <td>basic.4y</td>\n",
       "      <td>no</td>\n",
       "      <td>no</td>\n",
       "      <td>no</td>\n",
       "      <td>telephone</td>\n",
       "      <td>may</td>\n",
       "      <td>mon</td>\n",
       "      <td>...</td>\n",
       "      <td>1</td>\n",
       "      <td>999</td>\n",
       "      <td>0</td>\n",
       "      <td>nonexistent</td>\n",
       "      <td>1.1</td>\n",
       "      <td>93.994</td>\n",
       "      <td>-36.4</td>\n",
       "      <td>4.857</td>\n",
       "      <td>5191.0</td>\n",
       "      <td>no</td>\n",
       "    </tr>\n",
       "    <tr>\n",
       "      <th>1</th>\n",
       "      <td>57</td>\n",
       "      <td>services</td>\n",
       "      <td>married</td>\n",
       "      <td>high.school</td>\n",
       "      <td>unknown</td>\n",
       "      <td>no</td>\n",
       "      <td>no</td>\n",
       "      <td>telephone</td>\n",
       "      <td>may</td>\n",
       "      <td>mon</td>\n",
       "      <td>...</td>\n",
       "      <td>1</td>\n",
       "      <td>999</td>\n",
       "      <td>0</td>\n",
       "      <td>nonexistent</td>\n",
       "      <td>1.1</td>\n",
       "      <td>93.994</td>\n",
       "      <td>-36.4</td>\n",
       "      <td>4.857</td>\n",
       "      <td>5191.0</td>\n",
       "      <td>no</td>\n",
       "    </tr>\n",
       "    <tr>\n",
       "      <th>2</th>\n",
       "      <td>37</td>\n",
       "      <td>services</td>\n",
       "      <td>married</td>\n",
       "      <td>high.school</td>\n",
       "      <td>no</td>\n",
       "      <td>yes</td>\n",
       "      <td>no</td>\n",
       "      <td>telephone</td>\n",
       "      <td>may</td>\n",
       "      <td>mon</td>\n",
       "      <td>...</td>\n",
       "      <td>1</td>\n",
       "      <td>999</td>\n",
       "      <td>0</td>\n",
       "      <td>nonexistent</td>\n",
       "      <td>1.1</td>\n",
       "      <td>93.994</td>\n",
       "      <td>-36.4</td>\n",
       "      <td>4.857</td>\n",
       "      <td>5191.0</td>\n",
       "      <td>no</td>\n",
       "    </tr>\n",
       "    <tr>\n",
       "      <th>3</th>\n",
       "      <td>40</td>\n",
       "      <td>admin.</td>\n",
       "      <td>married</td>\n",
       "      <td>basic.6y</td>\n",
       "      <td>no</td>\n",
       "      <td>no</td>\n",
       "      <td>no</td>\n",
       "      <td>telephone</td>\n",
       "      <td>may</td>\n",
       "      <td>mon</td>\n",
       "      <td>...</td>\n",
       "      <td>1</td>\n",
       "      <td>999</td>\n",
       "      <td>0</td>\n",
       "      <td>nonexistent</td>\n",
       "      <td>1.1</td>\n",
       "      <td>93.994</td>\n",
       "      <td>-36.4</td>\n",
       "      <td>4.857</td>\n",
       "      <td>5191.0</td>\n",
       "      <td>no</td>\n",
       "    </tr>\n",
       "    <tr>\n",
       "      <th>4</th>\n",
       "      <td>56</td>\n",
       "      <td>services</td>\n",
       "      <td>married</td>\n",
       "      <td>high.school</td>\n",
       "      <td>no</td>\n",
       "      <td>no</td>\n",
       "      <td>yes</td>\n",
       "      <td>telephone</td>\n",
       "      <td>may</td>\n",
       "      <td>mon</td>\n",
       "      <td>...</td>\n",
       "      <td>1</td>\n",
       "      <td>999</td>\n",
       "      <td>0</td>\n",
       "      <td>nonexistent</td>\n",
       "      <td>1.1</td>\n",
       "      <td>93.994</td>\n",
       "      <td>-36.4</td>\n",
       "      <td>4.857</td>\n",
       "      <td>5191.0</td>\n",
       "      <td>no</td>\n",
       "    </tr>\n",
       "  </tbody>\n",
       "</table>\n",
       "<p>5 rows × 21 columns</p>\n",
       "</div>"
      ],
      "text/plain": [
       "   age        job  marital    education  default housing loan    contact  \\\n",
       "0   56  housemaid  married     basic.4y       no      no   no  telephone   \n",
       "1   57   services  married  high.school  unknown      no   no  telephone   \n",
       "2   37   services  married  high.school       no     yes   no  telephone   \n",
       "3   40     admin.  married     basic.6y       no      no   no  telephone   \n",
       "4   56   services  married  high.school       no      no  yes  telephone   \n",
       "\n",
       "  month day_of_week  ...  campaign  pdays  previous     poutcome emp.var.rate  \\\n",
       "0   may         mon  ...         1    999         0  nonexistent          1.1   \n",
       "1   may         mon  ...         1    999         0  nonexistent          1.1   \n",
       "2   may         mon  ...         1    999         0  nonexistent          1.1   \n",
       "3   may         mon  ...         1    999         0  nonexistent          1.1   \n",
       "4   may         mon  ...         1    999         0  nonexistent          1.1   \n",
       "\n",
       "   cons.price.idx  cons.conf.idx  euribor3m  nr.employed   y  \n",
       "0          93.994          -36.4      4.857       5191.0  no  \n",
       "1          93.994          -36.4      4.857       5191.0  no  \n",
       "2          93.994          -36.4      4.857       5191.0  no  \n",
       "3          93.994          -36.4      4.857       5191.0  no  \n",
       "4          93.994          -36.4      4.857       5191.0  no  \n",
       "\n",
       "[5 rows x 21 columns]"
      ]
     },
     "execution_count": 3,
     "metadata": {},
     "output_type": "execute_result"
    }
   ],
   "source": [
    "data.head()"
   ]
  },
  {
   "cell_type": "code",
   "execution_count": 4,
   "id": "43469b3f",
   "metadata": {},
   "outputs": [],
   "source": [
    "#test\n",
    "#data.replace(\"yes\",1)"
   ]
  },
  {
   "cell_type": "code",
   "execution_count": 5,
   "id": "5f575036",
   "metadata": {},
   "outputs": [],
   "source": [
    "#Label Encoding"
   ]
  },
  {
   "cell_type": "code",
   "execution_count": 6,
   "id": "7a557be1",
   "metadata": {},
   "outputs": [],
   "source": [
    "y_n = {\"y\":{\"yes\":1,\"no\":0}}\n",
    "data.replace(y_n,inplace=True)"
   ]
  },
  {
   "cell_type": "code",
   "execution_count": 7,
   "id": "ba1e0684",
   "metadata": {},
   "outputs": [
    {
     "data": {
      "text/html": [
       "<div>\n",
       "<style scoped>\n",
       "    .dataframe tbody tr th:only-of-type {\n",
       "        vertical-align: middle;\n",
       "    }\n",
       "\n",
       "    .dataframe tbody tr th {\n",
       "        vertical-align: top;\n",
       "    }\n",
       "\n",
       "    .dataframe thead th {\n",
       "        text-align: right;\n",
       "    }\n",
       "</style>\n",
       "<table border=\"1\" class=\"dataframe\">\n",
       "  <thead>\n",
       "    <tr style=\"text-align: right;\">\n",
       "      <th></th>\n",
       "      <th>age</th>\n",
       "      <th>job</th>\n",
       "      <th>marital</th>\n",
       "      <th>education</th>\n",
       "      <th>default</th>\n",
       "      <th>housing</th>\n",
       "      <th>loan</th>\n",
       "      <th>contact</th>\n",
       "      <th>month</th>\n",
       "      <th>day_of_week</th>\n",
       "      <th>...</th>\n",
       "      <th>campaign</th>\n",
       "      <th>pdays</th>\n",
       "      <th>previous</th>\n",
       "      <th>poutcome</th>\n",
       "      <th>emp.var.rate</th>\n",
       "      <th>cons.price.idx</th>\n",
       "      <th>cons.conf.idx</th>\n",
       "      <th>euribor3m</th>\n",
       "      <th>nr.employed</th>\n",
       "      <th>y</th>\n",
       "    </tr>\n",
       "  </thead>\n",
       "  <tbody>\n",
       "    <tr>\n",
       "      <th>0</th>\n",
       "      <td>56</td>\n",
       "      <td>housemaid</td>\n",
       "      <td>married</td>\n",
       "      <td>basic.4y</td>\n",
       "      <td>no</td>\n",
       "      <td>no</td>\n",
       "      <td>no</td>\n",
       "      <td>telephone</td>\n",
       "      <td>may</td>\n",
       "      <td>mon</td>\n",
       "      <td>...</td>\n",
       "      <td>1</td>\n",
       "      <td>999</td>\n",
       "      <td>0</td>\n",
       "      <td>nonexistent</td>\n",
       "      <td>1.1</td>\n",
       "      <td>93.994</td>\n",
       "      <td>-36.4</td>\n",
       "      <td>4.857</td>\n",
       "      <td>5191.0</td>\n",
       "      <td>0</td>\n",
       "    </tr>\n",
       "    <tr>\n",
       "      <th>1</th>\n",
       "      <td>57</td>\n",
       "      <td>services</td>\n",
       "      <td>married</td>\n",
       "      <td>high.school</td>\n",
       "      <td>unknown</td>\n",
       "      <td>no</td>\n",
       "      <td>no</td>\n",
       "      <td>telephone</td>\n",
       "      <td>may</td>\n",
       "      <td>mon</td>\n",
       "      <td>...</td>\n",
       "      <td>1</td>\n",
       "      <td>999</td>\n",
       "      <td>0</td>\n",
       "      <td>nonexistent</td>\n",
       "      <td>1.1</td>\n",
       "      <td>93.994</td>\n",
       "      <td>-36.4</td>\n",
       "      <td>4.857</td>\n",
       "      <td>5191.0</td>\n",
       "      <td>0</td>\n",
       "    </tr>\n",
       "  </tbody>\n",
       "</table>\n",
       "<p>2 rows × 21 columns</p>\n",
       "</div>"
      ],
      "text/plain": [
       "   age        job  marital    education  default housing loan    contact  \\\n",
       "0   56  housemaid  married     basic.4y       no      no   no  telephone   \n",
       "1   57   services  married  high.school  unknown      no   no  telephone   \n",
       "\n",
       "  month day_of_week  ...  campaign  pdays  previous     poutcome emp.var.rate  \\\n",
       "0   may         mon  ...         1    999         0  nonexistent          1.1   \n",
       "1   may         mon  ...         1    999         0  nonexistent          1.1   \n",
       "\n",
       "   cons.price.idx  cons.conf.idx  euribor3m  nr.employed  y  \n",
       "0          93.994          -36.4      4.857       5191.0  0  \n",
       "1          93.994          -36.4      4.857       5191.0  0  \n",
       "\n",
       "[2 rows x 21 columns]"
      ]
     },
     "execution_count": 7,
     "metadata": {},
     "output_type": "execute_result"
    }
   ],
   "source": [
    "data.head(2)"
   ]
  },
  {
   "cell_type": "code",
   "execution_count": 8,
   "id": "3fe116f6",
   "metadata": {},
   "outputs": [],
   "source": [
    "#Splitting data"
   ]
  },
  {
   "cell_type": "code",
   "execution_count": 9,
   "id": "42e68474",
   "metadata": {},
   "outputs": [],
   "source": [
    "x = data.loc[:,data.columns !=\"y\"] #predictor variables\n",
    "y = data.loc[:,data.columns==\"y\"] #target variables"
   ]
  },
  {
   "cell_type": "code",
   "execution_count": 10,
   "id": "8670f119",
   "metadata": {},
   "outputs": [
    {
     "data": {
      "text/plain": [
       "(41188, 20)"
      ]
     },
     "execution_count": 10,
     "metadata": {},
     "output_type": "execute_result"
    }
   ],
   "source": [
    "x.shape"
   ]
  },
  {
   "cell_type": "code",
   "execution_count": 11,
   "id": "976298db",
   "metadata": {},
   "outputs": [
    {
     "data": {
      "text/plain": [
       "(41188, 1)"
      ]
     },
     "execution_count": 11,
     "metadata": {},
     "output_type": "execute_result"
    }
   ],
   "source": [
    "y.shape"
   ]
  },
  {
   "cell_type": "code",
   "execution_count": 12,
   "id": "31396027",
   "metadata": {},
   "outputs": [],
   "source": [
    "#test - selecting specific columns\n",
    "aa = data[[\"age\",\"job\"]]"
   ]
  },
  {
   "cell_type": "code",
   "execution_count": 13,
   "id": "46dc5244",
   "metadata": {},
   "outputs": [],
   "source": [
    "#One hot coding"
   ]
  },
  {
   "cell_type": "code",
   "execution_count": 14,
   "id": "ea33f68d",
   "metadata": {},
   "outputs": [],
   "source": [
    "cat_data = data.select_dtypes(include=\"object\")\n",
    "num_data = data.select_dtypes(exclude=\"object\")\n",
    "num_data.drop(\"y\",axis=1,inplace=True)"
   ]
  },
  {
   "cell_type": "code",
   "execution_count": 15,
   "id": "9b43f217",
   "metadata": {},
   "outputs": [
    {
     "data": {
      "text/plain": [
       "(41188, 10)"
      ]
     },
     "execution_count": 15,
     "metadata": {},
     "output_type": "execute_result"
    }
   ],
   "source": [
    "cat_data.shape"
   ]
  },
  {
   "cell_type": "code",
   "execution_count": 16,
   "id": "558b9818",
   "metadata": {},
   "outputs": [
    {
     "data": {
      "text/plain": [
       "(41188, 10)"
      ]
     },
     "execution_count": 16,
     "metadata": {},
     "output_type": "execute_result"
    }
   ],
   "source": [
    "num_data.shape"
   ]
  },
  {
   "cell_type": "code",
   "execution_count": 17,
   "id": "c2053b98",
   "metadata": {},
   "outputs": [],
   "source": [
    "dummy_cat = pd.get_dummies(cat_data,drop_first=True)"
   ]
  },
  {
   "cell_type": "code",
   "execution_count": 18,
   "id": "e4390133",
   "metadata": {},
   "outputs": [
    {
     "data": {
      "text/plain": [
       "(41188, 43)"
      ]
     },
     "execution_count": 18,
     "metadata": {},
     "output_type": "execute_result"
    }
   ],
   "source": [
    "dummy_cat.shape"
   ]
  },
  {
   "cell_type": "code",
   "execution_count": 19,
   "id": "18c889a7",
   "metadata": {},
   "outputs": [
    {
     "data": {
      "text/html": [
       "<div>\n",
       "<style scoped>\n",
       "    .dataframe tbody tr th:only-of-type {\n",
       "        vertical-align: middle;\n",
       "    }\n",
       "\n",
       "    .dataframe tbody tr th {\n",
       "        vertical-align: top;\n",
       "    }\n",
       "\n",
       "    .dataframe thead th {\n",
       "        text-align: right;\n",
       "    }\n",
       "</style>\n",
       "<table border=\"1\" class=\"dataframe\">\n",
       "  <thead>\n",
       "    <tr style=\"text-align: right;\">\n",
       "      <th></th>\n",
       "      <th>job_blue-collar</th>\n",
       "      <th>job_entrepreneur</th>\n",
       "      <th>job_housemaid</th>\n",
       "      <th>job_management</th>\n",
       "      <th>job_retired</th>\n",
       "      <th>job_self-employed</th>\n",
       "      <th>job_services</th>\n",
       "      <th>job_student</th>\n",
       "      <th>job_technician</th>\n",
       "      <th>job_unemployed</th>\n",
       "      <th>...</th>\n",
       "      <th>month_may</th>\n",
       "      <th>month_nov</th>\n",
       "      <th>month_oct</th>\n",
       "      <th>month_sep</th>\n",
       "      <th>day_of_week_mon</th>\n",
       "      <th>day_of_week_thu</th>\n",
       "      <th>day_of_week_tue</th>\n",
       "      <th>day_of_week_wed</th>\n",
       "      <th>poutcome_nonexistent</th>\n",
       "      <th>poutcome_success</th>\n",
       "    </tr>\n",
       "  </thead>\n",
       "  <tbody>\n",
       "    <tr>\n",
       "      <th>0</th>\n",
       "      <td>0</td>\n",
       "      <td>0</td>\n",
       "      <td>1</td>\n",
       "      <td>0</td>\n",
       "      <td>0</td>\n",
       "      <td>0</td>\n",
       "      <td>0</td>\n",
       "      <td>0</td>\n",
       "      <td>0</td>\n",
       "      <td>0</td>\n",
       "      <td>...</td>\n",
       "      <td>1</td>\n",
       "      <td>0</td>\n",
       "      <td>0</td>\n",
       "      <td>0</td>\n",
       "      <td>1</td>\n",
       "      <td>0</td>\n",
       "      <td>0</td>\n",
       "      <td>0</td>\n",
       "      <td>1</td>\n",
       "      <td>0</td>\n",
       "    </tr>\n",
       "    <tr>\n",
       "      <th>1</th>\n",
       "      <td>0</td>\n",
       "      <td>0</td>\n",
       "      <td>0</td>\n",
       "      <td>0</td>\n",
       "      <td>0</td>\n",
       "      <td>0</td>\n",
       "      <td>1</td>\n",
       "      <td>0</td>\n",
       "      <td>0</td>\n",
       "      <td>0</td>\n",
       "      <td>...</td>\n",
       "      <td>1</td>\n",
       "      <td>0</td>\n",
       "      <td>0</td>\n",
       "      <td>0</td>\n",
       "      <td>1</td>\n",
       "      <td>0</td>\n",
       "      <td>0</td>\n",
       "      <td>0</td>\n",
       "      <td>1</td>\n",
       "      <td>0</td>\n",
       "    </tr>\n",
       "    <tr>\n",
       "      <th>2</th>\n",
       "      <td>0</td>\n",
       "      <td>0</td>\n",
       "      <td>0</td>\n",
       "      <td>0</td>\n",
       "      <td>0</td>\n",
       "      <td>0</td>\n",
       "      <td>1</td>\n",
       "      <td>0</td>\n",
       "      <td>0</td>\n",
       "      <td>0</td>\n",
       "      <td>...</td>\n",
       "      <td>1</td>\n",
       "      <td>0</td>\n",
       "      <td>0</td>\n",
       "      <td>0</td>\n",
       "      <td>1</td>\n",
       "      <td>0</td>\n",
       "      <td>0</td>\n",
       "      <td>0</td>\n",
       "      <td>1</td>\n",
       "      <td>0</td>\n",
       "    </tr>\n",
       "    <tr>\n",
       "      <th>3</th>\n",
       "      <td>0</td>\n",
       "      <td>0</td>\n",
       "      <td>0</td>\n",
       "      <td>0</td>\n",
       "      <td>0</td>\n",
       "      <td>0</td>\n",
       "      <td>0</td>\n",
       "      <td>0</td>\n",
       "      <td>0</td>\n",
       "      <td>0</td>\n",
       "      <td>...</td>\n",
       "      <td>1</td>\n",
       "      <td>0</td>\n",
       "      <td>0</td>\n",
       "      <td>0</td>\n",
       "      <td>1</td>\n",
       "      <td>0</td>\n",
       "      <td>0</td>\n",
       "      <td>0</td>\n",
       "      <td>1</td>\n",
       "      <td>0</td>\n",
       "    </tr>\n",
       "    <tr>\n",
       "      <th>4</th>\n",
       "      <td>0</td>\n",
       "      <td>0</td>\n",
       "      <td>0</td>\n",
       "      <td>0</td>\n",
       "      <td>0</td>\n",
       "      <td>0</td>\n",
       "      <td>1</td>\n",
       "      <td>0</td>\n",
       "      <td>0</td>\n",
       "      <td>0</td>\n",
       "      <td>...</td>\n",
       "      <td>1</td>\n",
       "      <td>0</td>\n",
       "      <td>0</td>\n",
       "      <td>0</td>\n",
       "      <td>1</td>\n",
       "      <td>0</td>\n",
       "      <td>0</td>\n",
       "      <td>0</td>\n",
       "      <td>1</td>\n",
       "      <td>0</td>\n",
       "    </tr>\n",
       "    <tr>\n",
       "      <th>...</th>\n",
       "      <td>...</td>\n",
       "      <td>...</td>\n",
       "      <td>...</td>\n",
       "      <td>...</td>\n",
       "      <td>...</td>\n",
       "      <td>...</td>\n",
       "      <td>...</td>\n",
       "      <td>...</td>\n",
       "      <td>...</td>\n",
       "      <td>...</td>\n",
       "      <td>...</td>\n",
       "      <td>...</td>\n",
       "      <td>...</td>\n",
       "      <td>...</td>\n",
       "      <td>...</td>\n",
       "      <td>...</td>\n",
       "      <td>...</td>\n",
       "      <td>...</td>\n",
       "      <td>...</td>\n",
       "      <td>...</td>\n",
       "      <td>...</td>\n",
       "    </tr>\n",
       "    <tr>\n",
       "      <th>41183</th>\n",
       "      <td>0</td>\n",
       "      <td>0</td>\n",
       "      <td>0</td>\n",
       "      <td>0</td>\n",
       "      <td>1</td>\n",
       "      <td>0</td>\n",
       "      <td>0</td>\n",
       "      <td>0</td>\n",
       "      <td>0</td>\n",
       "      <td>0</td>\n",
       "      <td>...</td>\n",
       "      <td>0</td>\n",
       "      <td>1</td>\n",
       "      <td>0</td>\n",
       "      <td>0</td>\n",
       "      <td>0</td>\n",
       "      <td>0</td>\n",
       "      <td>0</td>\n",
       "      <td>0</td>\n",
       "      <td>1</td>\n",
       "      <td>0</td>\n",
       "    </tr>\n",
       "    <tr>\n",
       "      <th>41184</th>\n",
       "      <td>1</td>\n",
       "      <td>0</td>\n",
       "      <td>0</td>\n",
       "      <td>0</td>\n",
       "      <td>0</td>\n",
       "      <td>0</td>\n",
       "      <td>0</td>\n",
       "      <td>0</td>\n",
       "      <td>0</td>\n",
       "      <td>0</td>\n",
       "      <td>...</td>\n",
       "      <td>0</td>\n",
       "      <td>1</td>\n",
       "      <td>0</td>\n",
       "      <td>0</td>\n",
       "      <td>0</td>\n",
       "      <td>0</td>\n",
       "      <td>0</td>\n",
       "      <td>0</td>\n",
       "      <td>1</td>\n",
       "      <td>0</td>\n",
       "    </tr>\n",
       "    <tr>\n",
       "      <th>41185</th>\n",
       "      <td>0</td>\n",
       "      <td>0</td>\n",
       "      <td>0</td>\n",
       "      <td>0</td>\n",
       "      <td>1</td>\n",
       "      <td>0</td>\n",
       "      <td>0</td>\n",
       "      <td>0</td>\n",
       "      <td>0</td>\n",
       "      <td>0</td>\n",
       "      <td>...</td>\n",
       "      <td>0</td>\n",
       "      <td>1</td>\n",
       "      <td>0</td>\n",
       "      <td>0</td>\n",
       "      <td>0</td>\n",
       "      <td>0</td>\n",
       "      <td>0</td>\n",
       "      <td>0</td>\n",
       "      <td>1</td>\n",
       "      <td>0</td>\n",
       "    </tr>\n",
       "    <tr>\n",
       "      <th>41186</th>\n",
       "      <td>0</td>\n",
       "      <td>0</td>\n",
       "      <td>0</td>\n",
       "      <td>0</td>\n",
       "      <td>0</td>\n",
       "      <td>0</td>\n",
       "      <td>0</td>\n",
       "      <td>0</td>\n",
       "      <td>1</td>\n",
       "      <td>0</td>\n",
       "      <td>...</td>\n",
       "      <td>0</td>\n",
       "      <td>1</td>\n",
       "      <td>0</td>\n",
       "      <td>0</td>\n",
       "      <td>0</td>\n",
       "      <td>0</td>\n",
       "      <td>0</td>\n",
       "      <td>0</td>\n",
       "      <td>1</td>\n",
       "      <td>0</td>\n",
       "    </tr>\n",
       "    <tr>\n",
       "      <th>41187</th>\n",
       "      <td>0</td>\n",
       "      <td>0</td>\n",
       "      <td>0</td>\n",
       "      <td>0</td>\n",
       "      <td>1</td>\n",
       "      <td>0</td>\n",
       "      <td>0</td>\n",
       "      <td>0</td>\n",
       "      <td>0</td>\n",
       "      <td>0</td>\n",
       "      <td>...</td>\n",
       "      <td>0</td>\n",
       "      <td>1</td>\n",
       "      <td>0</td>\n",
       "      <td>0</td>\n",
       "      <td>0</td>\n",
       "      <td>0</td>\n",
       "      <td>0</td>\n",
       "      <td>0</td>\n",
       "      <td>0</td>\n",
       "      <td>0</td>\n",
       "    </tr>\n",
       "  </tbody>\n",
       "</table>\n",
       "<p>41188 rows × 43 columns</p>\n",
       "</div>"
      ],
      "text/plain": [
       "       job_blue-collar  job_entrepreneur  job_housemaid  job_management  \\\n",
       "0                    0                 0              1               0   \n",
       "1                    0                 0              0               0   \n",
       "2                    0                 0              0               0   \n",
       "3                    0                 0              0               0   \n",
       "4                    0                 0              0               0   \n",
       "...                ...               ...            ...             ...   \n",
       "41183                0                 0              0               0   \n",
       "41184                1                 0              0               0   \n",
       "41185                0                 0              0               0   \n",
       "41186                0                 0              0               0   \n",
       "41187                0                 0              0               0   \n",
       "\n",
       "       job_retired  job_self-employed  job_services  job_student  \\\n",
       "0                0                  0             0            0   \n",
       "1                0                  0             1            0   \n",
       "2                0                  0             1            0   \n",
       "3                0                  0             0            0   \n",
       "4                0                  0             1            0   \n",
       "...            ...                ...           ...          ...   \n",
       "41183            1                  0             0            0   \n",
       "41184            0                  0             0            0   \n",
       "41185            1                  0             0            0   \n",
       "41186            0                  0             0            0   \n",
       "41187            1                  0             0            0   \n",
       "\n",
       "       job_technician  job_unemployed  ...  month_may  month_nov  month_oct  \\\n",
       "0                   0               0  ...          1          0          0   \n",
       "1                   0               0  ...          1          0          0   \n",
       "2                   0               0  ...          1          0          0   \n",
       "3                   0               0  ...          1          0          0   \n",
       "4                   0               0  ...          1          0          0   \n",
       "...               ...             ...  ...        ...        ...        ...   \n",
       "41183               0               0  ...          0          1          0   \n",
       "41184               0               0  ...          0          1          0   \n",
       "41185               0               0  ...          0          1          0   \n",
       "41186               1               0  ...          0          1          0   \n",
       "41187               0               0  ...          0          1          0   \n",
       "\n",
       "       month_sep  day_of_week_mon  day_of_week_thu  day_of_week_tue  \\\n",
       "0              0                1                0                0   \n",
       "1              0                1                0                0   \n",
       "2              0                1                0                0   \n",
       "3              0                1                0                0   \n",
       "4              0                1                0                0   \n",
       "...          ...              ...              ...              ...   \n",
       "41183          0                0                0                0   \n",
       "41184          0                0                0                0   \n",
       "41185          0                0                0                0   \n",
       "41186          0                0                0                0   \n",
       "41187          0                0                0                0   \n",
       "\n",
       "       day_of_week_wed  poutcome_nonexistent  poutcome_success  \n",
       "0                    0                     1                 0  \n",
       "1                    0                     1                 0  \n",
       "2                    0                     1                 0  \n",
       "3                    0                     1                 0  \n",
       "4                    0                     1                 0  \n",
       "...                ...                   ...               ...  \n",
       "41183                0                     1                 0  \n",
       "41184                0                     1                 0  \n",
       "41185                0                     1                 0  \n",
       "41186                0                     1                 0  \n",
       "41187                0                     0                 0  \n",
       "\n",
       "[41188 rows x 43 columns]"
      ]
     },
     "execution_count": 19,
     "metadata": {},
     "output_type": "execute_result"
    }
   ],
   "source": [
    "dummy_cat"
   ]
  },
  {
   "cell_type": "code",
   "execution_count": 20,
   "id": "6bf83440",
   "metadata": {},
   "outputs": [
    {
     "data": {
      "text/plain": [
       "(41188, 10)"
      ]
     },
     "execution_count": 20,
     "metadata": {},
     "output_type": "execute_result"
    }
   ],
   "source": [
    "cat_data.shape"
   ]
  },
  {
   "cell_type": "code",
   "execution_count": 76,
   "id": "acf0ef70",
   "metadata": {},
   "outputs": [],
   "source": [
    "x = pd.concat([num_data,dummy_cat],axis=1)"
   ]
  },
  {
   "cell_type": "code",
   "execution_count": 77,
   "id": "fdb689d3",
   "metadata": {},
   "outputs": [
    {
     "data": {
      "text/html": [
       "<div>\n",
       "<style scoped>\n",
       "    .dataframe tbody tr th:only-of-type {\n",
       "        vertical-align: middle;\n",
       "    }\n",
       "\n",
       "    .dataframe tbody tr th {\n",
       "        vertical-align: top;\n",
       "    }\n",
       "\n",
       "    .dataframe thead th {\n",
       "        text-align: right;\n",
       "    }\n",
       "</style>\n",
       "<table border=\"1\" class=\"dataframe\">\n",
       "  <thead>\n",
       "    <tr style=\"text-align: right;\">\n",
       "      <th></th>\n",
       "      <th>age</th>\n",
       "      <th>duration</th>\n",
       "      <th>campaign</th>\n",
       "      <th>pdays</th>\n",
       "      <th>previous</th>\n",
       "      <th>emp.var.rate</th>\n",
       "      <th>cons.price.idx</th>\n",
       "      <th>cons.conf.idx</th>\n",
       "      <th>euribor3m</th>\n",
       "      <th>nr.employed</th>\n",
       "      <th>...</th>\n",
       "      <th>month_may</th>\n",
       "      <th>month_nov</th>\n",
       "      <th>month_oct</th>\n",
       "      <th>month_sep</th>\n",
       "      <th>day_of_week_mon</th>\n",
       "      <th>day_of_week_thu</th>\n",
       "      <th>day_of_week_tue</th>\n",
       "      <th>day_of_week_wed</th>\n",
       "      <th>poutcome_nonexistent</th>\n",
       "      <th>poutcome_success</th>\n",
       "    </tr>\n",
       "  </thead>\n",
       "  <tbody>\n",
       "    <tr>\n",
       "      <th>0</th>\n",
       "      <td>56</td>\n",
       "      <td>261</td>\n",
       "      <td>1</td>\n",
       "      <td>999</td>\n",
       "      <td>0</td>\n",
       "      <td>1.1</td>\n",
       "      <td>93.994</td>\n",
       "      <td>-36.4</td>\n",
       "      <td>4.857</td>\n",
       "      <td>5191.0</td>\n",
       "      <td>...</td>\n",
       "      <td>1</td>\n",
       "      <td>0</td>\n",
       "      <td>0</td>\n",
       "      <td>0</td>\n",
       "      <td>1</td>\n",
       "      <td>0</td>\n",
       "      <td>0</td>\n",
       "      <td>0</td>\n",
       "      <td>1</td>\n",
       "      <td>0</td>\n",
       "    </tr>\n",
       "    <tr>\n",
       "      <th>1</th>\n",
       "      <td>57</td>\n",
       "      <td>149</td>\n",
       "      <td>1</td>\n",
       "      <td>999</td>\n",
       "      <td>0</td>\n",
       "      <td>1.1</td>\n",
       "      <td>93.994</td>\n",
       "      <td>-36.4</td>\n",
       "      <td>4.857</td>\n",
       "      <td>5191.0</td>\n",
       "      <td>...</td>\n",
       "      <td>1</td>\n",
       "      <td>0</td>\n",
       "      <td>0</td>\n",
       "      <td>0</td>\n",
       "      <td>1</td>\n",
       "      <td>0</td>\n",
       "      <td>0</td>\n",
       "      <td>0</td>\n",
       "      <td>1</td>\n",
       "      <td>0</td>\n",
       "    </tr>\n",
       "  </tbody>\n",
       "</table>\n",
       "<p>2 rows × 53 columns</p>\n",
       "</div>"
      ],
      "text/plain": [
       "   age  duration  campaign  pdays  previous  emp.var.rate  cons.price.idx  \\\n",
       "0   56       261         1    999         0           1.1          93.994   \n",
       "1   57       149         1    999         0           1.1          93.994   \n",
       "\n",
       "   cons.conf.idx  euribor3m  nr.employed  ...  month_may  month_nov  \\\n",
       "0          -36.4      4.857       5191.0  ...          1          0   \n",
       "1          -36.4      4.857       5191.0  ...          1          0   \n",
       "\n",
       "   month_oct  month_sep  day_of_week_mon  day_of_week_thu  day_of_week_tue  \\\n",
       "0          0          0                1                0                0   \n",
       "1          0          0                1                0                0   \n",
       "\n",
       "   day_of_week_wed  poutcome_nonexistent  poutcome_success  \n",
       "0                0                     1                 0  \n",
       "1                0                     1                 0  \n",
       "\n",
       "[2 rows x 53 columns]"
      ]
     },
     "execution_count": 77,
     "metadata": {},
     "output_type": "execute_result"
    }
   ],
   "source": [
    "x.head(2)"
   ]
  },
  {
   "cell_type": "code",
   "execution_count": 78,
   "id": "13b3c7a3",
   "metadata": {},
   "outputs": [
    {
     "data": {
      "text/plain": [
       "(41188, 53)"
      ]
     },
     "execution_count": 78,
     "metadata": {},
     "output_type": "execute_result"
    }
   ],
   "source": [
    "x.shape"
   ]
  },
  {
   "cell_type": "code",
   "execution_count": 79,
   "id": "3f812c79",
   "metadata": {},
   "outputs": [
    {
     "data": {
      "text/plain": [
       "Index(['age', 'duration', 'campaign', 'pdays', 'previous', 'emp.var.rate',\n",
       "       'cons.price.idx', 'cons.conf.idx', 'euribor3m', 'nr.employed',\n",
       "       'job_blue-collar', 'job_entrepreneur', 'job_housemaid',\n",
       "       'job_management', 'job_retired', 'job_self-employed', 'job_services',\n",
       "       'job_student', 'job_technician', 'job_unemployed', 'job_unknown',\n",
       "       'marital_married', 'marital_single', 'marital_unknown',\n",
       "       'education_basic.6y', 'education_basic.9y', 'education_high.school',\n",
       "       'education_illiterate', 'education_professional.course',\n",
       "       'education_university.degree', 'education_unknown', 'default_unknown',\n",
       "       'default_yes', 'housing_unknown', 'housing_yes', 'loan_unknown',\n",
       "       'loan_yes', 'contact_telephone', 'month_aug', 'month_dec', 'month_jul',\n",
       "       'month_jun', 'month_mar', 'month_may', 'month_nov', 'month_oct',\n",
       "       'month_sep', 'day_of_week_mon', 'day_of_week_thu', 'day_of_week_tue',\n",
       "       'day_of_week_wed', 'poutcome_nonexistent', 'poutcome_success'],\n",
       "      dtype='object')"
      ]
     },
     "execution_count": 79,
     "metadata": {},
     "output_type": "execute_result"
    }
   ],
   "source": [
    "x.columns"
   ]
  },
  {
   "cell_type": "code",
   "execution_count": 25,
   "id": "213ca411",
   "metadata": {},
   "outputs": [
    {
     "data": {
      "text/plain": [
       "age                                int64\n",
       "duration                           int64\n",
       "campaign                           int64\n",
       "pdays                              int64\n",
       "previous                           int64\n",
       "emp.var.rate                     float64\n",
       "cons.price.idx                   float64\n",
       "cons.conf.idx                    float64\n",
       "euribor3m                        float64\n",
       "nr.employed                      float64\n",
       "job_blue-collar                    uint8\n",
       "job_entrepreneur                   uint8\n",
       "job_housemaid                      uint8\n",
       "job_management                     uint8\n",
       "job_retired                        uint8\n",
       "job_self-employed                  uint8\n",
       "job_services                       uint8\n",
       "job_student                        uint8\n",
       "job_technician                     uint8\n",
       "job_unemployed                     uint8\n",
       "job_unknown                        uint8\n",
       "marital_married                    uint8\n",
       "marital_single                     uint8\n",
       "marital_unknown                    uint8\n",
       "education_basic.6y                 uint8\n",
       "education_basic.9y                 uint8\n",
       "education_high.school              uint8\n",
       "education_illiterate               uint8\n",
       "education_professional.course      uint8\n",
       "education_university.degree        uint8\n",
       "education_unknown                  uint8\n",
       "default_unknown                    uint8\n",
       "default_yes                        uint8\n",
       "housing_unknown                    uint8\n",
       "housing_yes                        uint8\n",
       "loan_unknown                       uint8\n",
       "loan_yes                           uint8\n",
       "contact_telephone                  uint8\n",
       "month_aug                          uint8\n",
       "month_dec                          uint8\n",
       "month_jul                          uint8\n",
       "month_jun                          uint8\n",
       "month_mar                          uint8\n",
       "month_may                          uint8\n",
       "month_nov                          uint8\n",
       "month_oct                          uint8\n",
       "month_sep                          uint8\n",
       "day_of_week_mon                    uint8\n",
       "day_of_week_thu                    uint8\n",
       "day_of_week_tue                    uint8\n",
       "day_of_week_wed                    uint8\n",
       "poutcome_nonexistent               uint8\n",
       "poutcome_success                   uint8\n",
       "dtype: object"
      ]
     },
     "execution_count": 25,
     "metadata": {},
     "output_type": "execute_result"
    }
   ],
   "source": [
    "x.dtypes"
   ]
  },
  {
   "cell_type": "code",
   "execution_count": 26,
   "id": "2ac70943",
   "metadata": {},
   "outputs": [],
   "source": [
    "# creating train and test data"
   ]
  },
  {
   "cell_type": "code",
   "execution_count": 27,
   "id": "c3fdfa32",
   "metadata": {},
   "outputs": [],
   "source": [
    "from sklearn.model_selection import train_test_split\n",
    "x_train, x_test, y_train, y_test = train_test_split(x,y, test_size = 0.30, random_state=0)"
   ]
  },
  {
   "cell_type": "code",
   "execution_count": 28,
   "id": "8b249637",
   "metadata": {},
   "outputs": [
    {
     "name": "stdout",
     "output_type": "stream",
     "text": [
      "x_train: (28831, 53)\n",
      "y_train: (28831, 1)\n",
      "x_test: (12357, 53)\n",
      "y_test: (12357, 1)\n"
     ]
    }
   ],
   "source": [
    "print(\"x_train:\",x_train.shape)\n",
    "print(\"y_train:\",y_train.shape)\n",
    "print(\"x_test:\",x_test.shape)\n",
    "print(\"y_test:\",y_test.shape)"
   ]
  },
  {
   "cell_type": "code",
   "execution_count": 29,
   "id": "b0f46a15",
   "metadata": {},
   "outputs": [],
   "source": [
    "#Decision Tree classifier"
   ]
  },
  {
   "cell_type": "code",
   "execution_count": 30,
   "id": "1800b521",
   "metadata": {},
   "outputs": [],
   "source": [
    "dt = DecisionTreeClassifier(random_state=0,criterion=\"gini\")"
   ]
  },
  {
   "cell_type": "code",
   "execution_count": 31,
   "id": "46706895",
   "metadata": {},
   "outputs": [],
   "source": [
    "model = dt.fit(x_train,y_train)"
   ]
  },
  {
   "cell_type": "code",
   "execution_count": 32,
   "id": "d2060b7b",
   "metadata": {},
   "outputs": [],
   "source": [
    "dt_predict = model.predict(x_test)"
   ]
  },
  {
   "cell_type": "code",
   "execution_count": 33,
   "id": "cdb882cc",
   "metadata": {},
   "outputs": [],
   "source": [
    "dt_precision = metrics.precision_score(y_test,dt_predict)\n",
    "dt_recall = metrics.recall_score(y_test,dt_predict)\n",
    "dt_accuracy = metrics.accuracy_score(y_test,dt_predict)\n",
    "dt_kappa_score = metrics.cohen_kappa_score(y_test,dt_predict)"
   ]
  },
  {
   "cell_type": "code",
   "execution_count": 34,
   "id": "b8eb1eb5",
   "metadata": {},
   "outputs": [],
   "source": [
    "test_predict=model.predict_proba(x_test)[:,1]"
   ]
  },
  {
   "cell_type": "code",
   "execution_count": 35,
   "id": "c6b3542c",
   "metadata": {},
   "outputs": [
    {
     "data": {
      "text/plain": [
       "array([0., 0., 0., ..., 0., 0., 0.])"
      ]
     },
     "execution_count": 35,
     "metadata": {},
     "output_type": "execute_result"
    }
   ],
   "source": [
    "test_predict"
   ]
  },
  {
   "cell_type": "code",
   "execution_count": 36,
   "id": "5d7ad287",
   "metadata": {},
   "outputs": [],
   "source": [
    "# ROC Curve"
   ]
  },
  {
   "cell_type": "code",
   "execution_count": 37,
   "id": "d70d0a53",
   "metadata": {},
   "outputs": [],
   "source": [
    "from sklearn.metrics import roc_auc_score, roc_curve\n",
    "score = roc_auc_score(y_test,test_predict)\n",
    "fpr,tpr,thresholds = roc_curve(y_test,test_predict)"
   ]
  },
  {
   "cell_type": "code",
   "execution_count": 38,
   "id": "4ab38fbb",
   "metadata": {},
   "outputs": [
    {
     "data": {
      "image/png": "[encoded data removed]",
      "text/plain": [
       "<Figure size 432x288 with 1 Axes>"
      ]
     },
     "metadata": {
      "needs_background": "light"
     },
     "output_type": "display_data"
    }
   ],
   "source": [
    "plt.plot(fpr,tpr,label=\"AUC:{:.2f}\".format(score))\n",
    "plt.legend(loc=4)\n",
    "plt.plot([1,0],[1,0],\"g--\")\n",
    "plt.xlabel(\"False positive rate\")\n",
    "plt.ylabel(\"True positive rate\")\n",
    "plt.title(\"ROC Curve - Decision Tree classifier method\");"
   ]
  },
  {
   "cell_type": "code",
   "execution_count": 39,
   "id": "e1e41714",
   "metadata": {},
   "outputs": [],
   "source": [
    "precision = metrics.precision_score(y_test,test_predict)\n",
    "recall = metrics.recall_score(y_test,test_predict)\n",
    "accuracy = metrics.accuracy_score(y_test,test_predict)\n",
    "kappa_score = metrics.cohen_kappa_score(y_test,test_predict)"
   ]
  },
  {
   "cell_type": "code",
   "execution_count": 40,
   "id": "22875627",
   "metadata": {},
   "outputs": [],
   "source": [
    "output=pd.DataFrame(data=[precision,recall,accuracy,kappa_score],index=[\"Precision\",\"Recall\",\"Accuracy\",\"Kappa\"],columns=[\"Score\"])"
   ]
  },
  {
   "cell_type": "code",
   "execution_count": 41,
   "id": "8e59c9dd",
   "metadata": {},
   "outputs": [
    {
     "data": {
      "text/html": [
       "<div>\n",
       "<style scoped>\n",
       "    .dataframe tbody tr th:only-of-type {\n",
       "        vertical-align: middle;\n",
       "    }\n",
       "\n",
       "    .dataframe tbody tr th {\n",
       "        vertical-align: top;\n",
       "    }\n",
       "\n",
       "    .dataframe thead th {\n",
       "        text-align: right;\n",
       "    }\n",
       "</style>\n",
       "<table border=\"1\" class=\"dataframe\">\n",
       "  <thead>\n",
       "    <tr style=\"text-align: right;\">\n",
       "      <th></th>\n",
       "      <th>Score</th>\n",
       "    </tr>\n",
       "  </thead>\n",
       "  <tbody>\n",
       "    <tr>\n",
       "      <th>Precision</th>\n",
       "      <td>0.517502</td>\n",
       "    </tr>\n",
       "    <tr>\n",
       "      <th>Recall</th>\n",
       "      <td>0.543228</td>\n",
       "    </tr>\n",
       "    <tr>\n",
       "      <th>Accuracy</th>\n",
       "      <td>0.891802</td>\n",
       "    </tr>\n",
       "    <tr>\n",
       "      <th>Kappa</th>\n",
       "      <td>0.468957</td>\n",
       "    </tr>\n",
       "  </tbody>\n",
       "</table>\n",
       "</div>"
      ],
      "text/plain": [
       "              Score\n",
       "Precision  0.517502\n",
       "Recall     0.543228\n",
       "Accuracy   0.891802\n",
       "Kappa      0.468957"
      ]
     },
     "execution_count": 41,
     "metadata": {},
     "output_type": "execute_result"
    }
   ],
   "source": [
    "output"
   ]
  },
  {
   "cell_type": "code",
   "execution_count": 42,
   "id": "b2620231",
   "metadata": {},
   "outputs": [],
   "source": [
    "data = {\"Precision\":[precision],\"Recall\":[recall],\"Accuracy\":accuracy,\"Kappa\":[kappa_score]}"
   ]
  },
  {
   "cell_type": "code",
   "execution_count": 43,
   "id": "9788f1a5",
   "metadata": {},
   "outputs": [],
   "source": [
    "output_1 = pd.DataFrame(data,index=[\"Gini_Score\"])"
   ]
  },
  {
   "cell_type": "code",
   "execution_count": 44,
   "id": "130e40e3",
   "metadata": {},
   "outputs": [
    {
     "data": {
      "text/html": [
       "<div>\n",
       "<style scoped>\n",
       "    .dataframe tbody tr th:only-of-type {\n",
       "        vertical-align: middle;\n",
       "    }\n",
       "\n",
       "    .dataframe tbody tr th {\n",
       "        vertical-align: top;\n",
       "    }\n",
       "\n",
       "    .dataframe thead th {\n",
       "        text-align: right;\n",
       "    }\n",
       "</style>\n",
       "<table border=\"1\" class=\"dataframe\">\n",
       "  <thead>\n",
       "    <tr style=\"text-align: right;\">\n",
       "      <th></th>\n",
       "      <th>Precision</th>\n",
       "      <th>Recall</th>\n",
       "      <th>Accuracy</th>\n",
       "      <th>Kappa</th>\n",
       "    </tr>\n",
       "  </thead>\n",
       "  <tbody>\n",
       "    <tr>\n",
       "      <th>Gini_Score</th>\n",
       "      <td>0.517502</td>\n",
       "      <td>0.543228</td>\n",
       "      <td>0.891802</td>\n",
       "      <td>0.468957</td>\n",
       "    </tr>\n",
       "  </tbody>\n",
       "</table>\n",
       "</div>"
      ],
      "text/plain": [
       "            Precision    Recall  Accuracy     Kappa\n",
       "Gini_Score   0.517502  0.543228  0.891802  0.468957"
      ]
     },
     "execution_count": 44,
     "metadata": {},
     "output_type": "execute_result"
    }
   ],
   "source": [
    "output_1"
   ]
  },
  {
   "cell_type": "code",
   "execution_count": 45,
   "id": "c531f24d",
   "metadata": {},
   "outputs": [],
   "source": [
    "#Random Forest Classifier"
   ]
  },
  {
   "cell_type": "code",
   "execution_count": 46,
   "id": "235027e6",
   "metadata": {},
   "outputs": [],
   "source": [
    "from sklearn.ensemble import RandomForestClassifier"
   ]
  },
  {
   "cell_type": "code",
   "execution_count": 47,
   "id": "4ae36e96",
   "metadata": {},
   "outputs": [],
   "source": [
    "clf = RandomForestClassifier(criterion=\"gini\",random_state=0)"
   ]
  },
  {
   "cell_type": "code",
   "execution_count": 48,
   "id": "df4825b5",
   "metadata": {},
   "outputs": [],
   "source": [
    "rfc = clf.fit(x_train,y_train)"
   ]
  },
  {
   "cell_type": "code",
   "execution_count": 49,
   "id": "b2a8315e",
   "metadata": {},
   "outputs": [],
   "source": [
    "rfc_predict_prob = rfc.predict_proba(x_test)[:,1]"
   ]
  },
  {
   "cell_type": "code",
   "execution_count": 50,
   "id": "e0f2ca2a",
   "metadata": {},
   "outputs": [],
   "source": [
    "rfc_predict = rfc.predict(x_test)"
   ]
  },
  {
   "cell_type": "code",
   "execution_count": 51,
   "id": "ddb917a2",
   "metadata": {},
   "outputs": [
    {
     "data": {
      "text/plain": [
       "array([1, 0, 0, ..., 0, 0, 0], dtype=int64)"
      ]
     },
     "execution_count": 51,
     "metadata": {},
     "output_type": "execute_result"
    }
   ],
   "source": [
    "rfc_predict"
   ]
  },
  {
   "cell_type": "code",
   "execution_count": 52,
   "id": "3ff3efdf",
   "metadata": {},
   "outputs": [
    {
     "data": {
      "text/plain": [
       "array([0.55, 0.04, 0.  , ..., 0.  , 0.  , 0.43])"
      ]
     },
     "execution_count": 52,
     "metadata": {},
     "output_type": "execute_result"
    }
   ],
   "source": [
    "rfc_predict_prob"
   ]
  },
  {
   "cell_type": "code",
   "execution_count": 53,
   "id": "3f06929b",
   "metadata": {},
   "outputs": [],
   "source": [
    "#ROC Curve"
   ]
  },
  {
   "cell_type": "code",
   "execution_count": 54,
   "id": "0fd2d92c",
   "metadata": {},
   "outputs": [
    {
     "data": {
      "image/png": "[encoded data removed]",
      "text/plain": [
       "<Figure size 432x288 with 1 Axes>"
      ]
     },
     "metadata": {
      "needs_background": "light"
     },
     "output_type": "display_data"
    }
   ],
   "source": [
    "rfc_score = metrics.roc_auc_score(y_test,rfc_predict)\n",
    "fpr,tpr,threshold = metrics.roc_curve(y_test,rfc_predict)\n",
    "\n",
    "plt.plot(fpr,tpr,label=\"AUC:{}\".format(round(rfc_score,2)))\n",
    "plt.legend(loc=2)\n",
    "plt.title(\"ROC Curve - Random Forest Classifier method\")\n",
    "plt.xlabel(\"False positive rate\")\n",
    "plt.ylabel(\"True positive rate\")\n",
    "plt.plot([1,0],[1,0],\"b--\");"
   ]
  },
  {
   "cell_type": "code",
   "execution_count": 55,
   "id": "55f33a50",
   "metadata": {},
   "outputs": [
    {
     "data": {
      "text/plain": [
       "array([8.61493240e-02, 2.90059604e-01, 4.14175982e-02, 2.83246172e-02,\n",
       "       1.58931561e-02, 2.23902562e-02, 2.42767290e-02, 2.66251176e-02,\n",
       "       1.04564136e-01, 4.86162563e-02, 9.13285477e-03, 4.18638397e-03,\n",
       "       3.59919699e-03, 7.80485471e-03, 6.21496426e-03, 4.39433938e-03,\n",
       "       6.93310055e-03, 4.53684529e-03, 1.14458991e-02, 4.14614807e-03,\n",
       "       1.65834236e-03, 1.35064713e-02, 1.21778647e-02, 4.51027828e-04,\n",
       "       4.64859634e-03, 8.15597468e-03, 1.21077743e-02, 1.86395124e-04,\n",
       "       8.79387044e-03, 1.29106972e-02, 4.98787664e-03, 8.62853305e-03,\n",
       "       0.00000000e+00, 2.22693878e-03, 2.00816950e-02, 2.20535113e-03,\n",
       "       1.33827045e-02, 1.01323102e-02, 2.46422942e-03, 9.34196764e-04,\n",
       "       2.82487753e-03, 2.80997536e-03, 4.82408621e-03, 6.28685957e-03,\n",
       "       2.42220557e-03, 5.89873044e-03, 2.72376805e-03, 1.19760734e-02,\n",
       "       1.24113035e-02, 1.19291171e-02, 1.15403095e-02, 8.71536468e-03,\n",
       "       2.52850983e-02])"
      ]
     },
     "execution_count": 55,
     "metadata": {},
     "output_type": "execute_result"
    }
   ],
   "source": [
    "rfc.feature_importances_"
   ]
  },
  {
   "cell_type": "code",
   "execution_count": 56,
   "id": "54950a91",
   "metadata": {},
   "outputs": [
    {
     "data": {
      "image/png": "[encoded data removed]",
      "text/plain": [
       "<Figure size 432x288 with 1 Axes>"
      ]
     },
     "metadata": {
      "needs_background": "light"
     },
     "output_type": "display_data"
    }
   ],
   "source": [
    "barh = pd.Series(rfc.feature_importances_, index=x.columns)\n",
    "barh.nlargest(10).plot(kind=\"barh\");"
   ]
  },
  {
   "cell_type": "code",
   "execution_count": 57,
   "id": "f1472711",
   "metadata": {},
   "outputs": [],
   "source": [
    "#Random forest using Grid search"
   ]
  },
  {
   "cell_type": "code",
   "execution_count": 58,
   "id": "ddea001a",
   "metadata": {},
   "outputs": [],
   "source": [
    "from sklearn.model_selection import GridSearchCV"
   ]
  },
  {
   "cell_type": "code",
   "execution_count": 59,
   "id": "e9f9170e",
   "metadata": {},
   "outputs": [],
   "source": [
    "grid = {\"n_estimators\":[2,3,4,5,6,7,8,9,10],\"max_features\":[\"auto\", \"sqrt\", \"log2\"]}"
   ]
  },
  {
   "cell_type": "code",
   "execution_count": 60,
   "id": "446f7b87",
   "metadata": {},
   "outputs": [
    {
     "name": "stdout",
     "output_type": "stream",
     "text": [
      "Wall time: 1min 11s\n"
     ]
    },
    {
     "data": {
      "text/plain": [
       "GridSearchCV(cv=10, estimator=RandomForestClassifier(random_state=0),\n",
       "             param_grid={'max_features': ['auto', 'sqrt', 'log2'],\n",
       "                         'n_estimators': [2, 3, 4, 5, 6, 7, 8, 9, 10]})"
      ]
     },
     "execution_count": 60,
     "metadata": {},
     "output_type": "execute_result"
    }
   ],
   "source": [
    "%%time\n",
    "grid_rfc = GridSearchCV(estimator=clf,param_grid=grid,cv=10)\n",
    "grid_rfc.fit(x_train,y_train)"
   ]
  },
  {
   "cell_type": "code",
   "execution_count": 61,
   "id": "979f1107",
   "metadata": {},
   "outputs": [
    {
     "data": {
      "text/plain": [
       "0.9066627001365793"
      ]
     },
     "execution_count": 61,
     "metadata": {},
     "output_type": "execute_result"
    }
   ],
   "source": [
    "grid_rfc.best_score_"
   ]
  },
  {
   "cell_type": "code",
   "execution_count": 62,
   "id": "13916508",
   "metadata": {},
   "outputs": [
    {
     "data": {
      "text/plain": [
       "{'max_features': 'auto', 'n_estimators': 10}"
      ]
     },
     "execution_count": 62,
     "metadata": {},
     "output_type": "execute_result"
    }
   ],
   "source": [
    "grid_rfc.best_params_"
   ]
  },
  {
   "cell_type": "code",
   "execution_count": 63,
   "id": "62f1b4dc",
   "metadata": {},
   "outputs": [],
   "source": [
    "#Randomised search cross validation"
   ]
  },
  {
   "cell_type": "code",
   "execution_count": 64,
   "id": "3107c4f5",
   "metadata": {},
   "outputs": [],
   "source": [
    "a=np.linspace(start=1, stop=5, num=5)"
   ]
  },
  {
   "cell_type": "code",
   "execution_count": 65,
   "id": "c62ad65d",
   "metadata": {},
   "outputs": [],
   "source": [
    "n_esth = [int(x) for x in np.linspace(start=1, stop=5, num=5)]"
   ]
  },
  {
   "cell_type": "code",
   "execution_count": 66,
   "id": "8acb78ee",
   "metadata": {},
   "outputs": [
    {
     "data": {
      "text/plain": [
       "[1, 2, 3, 4, 5]"
      ]
     },
     "execution_count": 66,
     "metadata": {},
     "output_type": "execute_result"
    }
   ],
   "source": [
    "n_esth"
   ]
  },
  {
   "cell_type": "code",
   "execution_count": 67,
   "id": "7df3d024",
   "metadata": {},
   "outputs": [],
   "source": [
    "from sklearn.model_selection import RandomizedSearchCV"
   ]
  },
  {
   "cell_type": "code",
   "execution_count": 68,
   "id": "74f97650",
   "metadata": {},
   "outputs": [],
   "source": [
    "r_grid = {\"n_estimators\":[int(x) for x in np.linspace(1,5,5)],\n",
    "          \"max_depth\":[int(x) for x in np.linspace(1,10,10)],\n",
    "          \"max_features\":[\"auto\", \"sqrt\", \"log2\"],\n",
    "          \"bootstrap\":[True,False],\n",
    "          \"random_state\":[0],\n",
    "          \"class_weight\":[\"balanced\", \"balanced_subsample\"],\n",
    "          \"min_samples_split\": [2, 5, 10],\n",
    "          \"min_samples_leaf\":[1, 2, 4],\n",
    "         }"
   ]
  },
  {
   "cell_type": "code",
   "execution_count": 69,
   "id": "bb3029d7",
   "metadata": {},
   "outputs": [
    {
     "data": {
      "text/plain": [
       "{'n_estimators': [1, 2, 3, 4, 5],\n",
       " 'max_depth': [1, 2, 3, 4, 5, 6, 7, 8, 9, 10],\n",
       " 'max_features': ['auto', 'sqrt', 'log2'],\n",
       " 'bootstrap': [True, False],\n",
       " 'random_state': [0],\n",
       " 'class_weight': ['balanced', 'balanced_subsample'],\n",
       " 'min_samples_split': [2, 5, 10],\n",
       " 'min_samples_leaf': [1, 2, 4]}"
      ]
     },
     "execution_count": 69,
     "metadata": {},
     "output_type": "execute_result"
    }
   ],
   "source": [
    "r_grid"
   ]
  },
  {
   "cell_type": "code",
   "execution_count": 70,
   "id": "6e647162",
   "metadata": {},
   "outputs": [
    {
     "name": "stdout",
     "output_type": "stream",
     "text": [
      "Wall time: 10.4 s\n"
     ]
    },
    {
     "data": {
      "text/plain": [
       "{'random_state': 0,\n",
       " 'n_estimators': 3,\n",
       " 'min_samples_split': 10,\n",
       " 'min_samples_leaf': 4,\n",
       " 'max_features': 'auto',\n",
       " 'max_depth': 10,\n",
       " 'class_weight': 'balanced_subsample',\n",
       " 'bootstrap': True}"
      ]
     },
     "execution_count": 70,
     "metadata": {},
     "output_type": "execute_result"
    }
   ],
   "source": [
    "%%time\n",
    "rf_random = RandomizedSearchCV(estimator=clf,param_distributions=r_grid,random_state=0,cv=10)\n",
    "rf_random.fit(x_train,y_train)\n",
    "rf_random.best_params_"
   ]
  },
  {
   "cell_type": "code",
   "execution_count": 71,
   "id": "4432b20e",
   "metadata": {},
   "outputs": [
    {
     "data": {
      "text/plain": [
       "0.849016473728293"
      ]
     },
     "execution_count": 71,
     "metadata": {},
     "output_type": "execute_result"
    }
   ],
   "source": [
    "rf_random.best_score_"
   ]
  },
  {
   "cell_type": "code",
   "execution_count": 72,
   "id": "0c089aaf",
   "metadata": {},
   "outputs": [
    {
     "data": {
      "text/plain": [
       "RandomForestClassifier(class_weight='balanced_subsample', max_depth=10,\n",
       "                       min_samples_leaf=4, min_samples_split=10, n_estimators=3,\n",
       "                       random_state=0)"
      ]
     },
     "execution_count": 72,
     "metadata": {},
     "output_type": "execute_result"
    }
   ],
   "source": [
    "best_model = rf_random.best_estimator_\n",
    "best_model.fit(x_train,y_train)"
   ]
  },
  {
   "cell_type": "code",
   "execution_count": 73,
   "id": "40192108",
   "metadata": {},
   "outputs": [
    {
     "data": {
      "text/plain": [
       "array([3.24240872e-02, 2.69252109e-01, 9.45679985e-03, 9.17793284e-02,\n",
       "       3.40951421e-03, 1.77593827e-01, 2.20323967e-02, 2.89662264e-02,\n",
       "       1.49594187e-01, 1.43693503e-02, 8.81675881e-03, 1.49993197e-03,\n",
       "       1.43813868e-03, 6.51176184e-04, 1.01035088e-02, 1.52921291e-04,\n",
       "       1.94646585e-03, 3.65356738e-03, 2.00437002e-03, 8.61610318e-04,\n",
       "       8.26814222e-05, 1.45159533e-03, 1.52648664e-03, 9.80543742e-04,\n",
       "       1.69803504e-03, 1.90525944e-03, 1.39821454e-03, 0.00000000e+00,\n",
       "       1.76220768e-03, 6.33905442e-03, 1.47383591e-03, 2.20320848e-02,\n",
       "       0.00000000e+00, 6.70513325e-04, 3.62054161e-03, 1.26631323e-03,\n",
       "       2.19429147e-03, 3.11524724e-02, 2.42044269e-03, 3.66222327e-06,\n",
       "       6.53285127e-04, 2.37630768e-03, 7.00960263e-03, 9.88373285e-03,\n",
       "       1.18869235e-03, 8.56134235e-03, 0.00000000e+00, 1.43183453e-03,\n",
       "       2.81625149e-03, 2.50141207e-03, 2.09211626e-03, 4.28131701e-02,\n",
       "       6.68774074e-03])"
      ]
     },
     "execution_count": 73,
     "metadata": {},
     "output_type": "execute_result"
    }
   ],
   "source": [
    "best_model.feature_importances_"
   ]
  },
  {
   "cell_type": "code",
   "execution_count": 74,
   "id": "15430702",
   "metadata": {},
   "outputs": [
    {
     "data": {
      "image/png": "[encoded data removed]",
      "text/plain": [
       "<Figure size 432x288 with 1 Axes>"
      ]
     },
     "metadata": {
      "needs_background": "light"
     },
     "output_type": "display_data"
    }
   ],
   "source": [
    "importance = sorted(zip(map(lambda x: round(x, 4), best_model.feature_importances_), x.columns),reverse=True)\n",
    "\n",
    "y_val = []\n",
    "x_val = [x[0] for x in importance]\n",
    "\n",
    "for x in importance:\n",
    "    y_val.append(x[1])\n",
    "    \n",
    "pd.Series(x_val,index=y_val)[:7].plot(kind='bar')\n",
    "plt.show();"
   ]
  },
  {
   "cell_type": "code",
   "execution_count": 112,
   "id": "0167349b",
   "metadata": {},
   "outputs": [
    {
     "data": {
      "image/png": "[encoded data removed]",
      "text/plain": [
       "<Figure size 432x288 with 1 Axes>"
      ]
     },
     "metadata": {
      "needs_background": "light"
     },
     "output_type": "display_data"
    }
   ],
   "source": [
    "#Another way\n",
    "x_val = [x[0] for x in importance]\n",
    "y_val = [x[1] for x in importance]\n",
    "\n",
    "imp_1 = pd.Series(x_val, index=y_val)\n",
    "\n",
    "imp_1.nlargest(5).plot(kind=\"bar\");"
   ]
  },
  {
   "cell_type": "code",
   "execution_count": 80,
   "id": "f6ffcb60",
   "metadata": {},
   "outputs": [
    {
     "data": {
      "image/png": "[encoded data removed]",
      "text/plain": [
       "<Figure size 432x288 with 1 Axes>"
      ]
     },
     "metadata": {
      "needs_background": "light"
     },
     "output_type": "display_data"
    }
   ],
   "source": [
    "imp = pd.Series(best_model.feature_importances_,index=x.columns)\n",
    "imp.sort_values(ascending=False).nlargest(10).plot(kind=\"barh\",color=[\"b\",\"g\",\"r\",\"m\",\"c\",\"y\",\"k\",\"w\"],edgecolor=\"red\"\n",
    "                                                   ,visible=True,animated=True);"
   ]
  },
  {
   "cell_type": "code",
   "execution_count": 81,
   "id": "55021ca9",
   "metadata": {},
   "outputs": [],
   "source": [
    "# Bagging classifier"
   ]
  },
  {
   "cell_type": "code",
   "execution_count": 82,
   "id": "3acfd1c6",
   "metadata": {},
   "outputs": [],
   "source": [
    "from sklearn.ensemble import BaggingClassifier"
   ]
  },
  {
   "cell_type": "code",
   "execution_count": 83,
   "id": "b9ccc2d5",
   "metadata": {},
   "outputs": [
    {
     "data": {
      "text/plain": [
       "BaggingClassifier(base_estimator=RandomForestClassifier(class_weight='balanced_subsample',\n",
       "                                                        max_depth=10,\n",
       "                                                        min_samples_leaf=4,\n",
       "                                                        min_samples_split=10,\n",
       "                                                        n_estimators=3,\n",
       "                                                        random_state=0),\n",
       "                  random_state=1)"
      ]
     },
     "execution_count": 83,
     "metadata": {},
     "output_type": "execute_result"
    }
   ],
   "source": [
    "bag = BaggingClassifier(best_model, random_state=1)\n",
    "bag.fit(x_train,y_train)"
   ]
  },
  {
   "cell_type": "code",
   "execution_count": 84,
   "id": "b1270b3a",
   "metadata": {},
   "outputs": [],
   "source": [
    "bag_predict = bag.predict(x_test)"
   ]
  },
  {
   "cell_type": "code",
   "execution_count": 85,
   "id": "0c835eb3",
   "metadata": {},
   "outputs": [
    {
     "data": {
      "image/png": "[encoded data removed]",
      "text/plain": [
       "<Figure size 432x288 with 1 Axes>"
      ]
     },
     "metadata": {
      "needs_background": "light"
     },
     "output_type": "display_data"
    }
   ],
   "source": [
    "bag_score = metrics.roc_auc_score(y_test,bag_predict)\n",
    "fpr,tpr,threshold = metrics.roc_curve(y_test,bag_predict)\n",
    "plt.plot(fpr,tpr,label=\"AUC:{:.2f}\".format(bag_score),color=\"r\")\n",
    "plt.xlabel(\"False Positive Rate\")\n",
    "plt.ylabel(\"True Positive Rate\")\n",
    "plt.legend()\n",
    "plt.plot([1,0],[1,0],\"g--\",label=\"0.50\")\n",
    "plt.legend()\n",
    "plt.title(\"ROC Curve - Random forest with Bagging\");"
   ]
  },
  {
   "cell_type": "code",
   "execution_count": 86,
   "id": "587a7441",
   "metadata": {},
   "outputs": [],
   "source": [
    "b_precision = metrics.precision_score(y_test,bag_predict)\n",
    "b_recall = metrics.recall_score(y_test,bag_predict)\n",
    "b_accuracy = metrics.accuracy_score(y_test,bag_predict)\n",
    "b_kappa_score = metrics.cohen_kappa_score(y_test,bag_predict)"
   ]
  },
  {
   "cell_type": "code",
   "execution_count": 87,
   "id": "e51c09f4",
   "metadata": {},
   "outputs": [],
   "source": [
    "#Ada Boost classifier"
   ]
  },
  {
   "cell_type": "code",
   "execution_count": 89,
   "id": "df93fd39",
   "metadata": {},
   "outputs": [],
   "source": [
    "Ada_boost = AdaBoostClassifier(n_estimators=10,random_state=0)\n",
    "Ada_boost.fit(x_train,y_train)\n",
    "ada_predict=Ada_boost.predict(x_test)"
   ]
  },
  {
   "cell_type": "code",
   "execution_count": 90,
   "id": "48c8d6bc",
   "metadata": {},
   "outputs": [
    {
     "data": {
      "image/png": "[encoded data removed]",
      "text/plain": [
       "<Figure size 432x288 with 1 Axes>"
      ]
     },
     "metadata": {
      "needs_background": "light"
     },
     "output_type": "display_data"
    }
   ],
   "source": [
    "ada_score = metrics.roc_auc_score(y_test,ada_predict)\n",
    "fpr,tpr,threshold = metrics.roc_curve(y_test,ada_predict)\n",
    "plt.plot(fpr,tpr,label=\"AUC:{:.2f}\".format(ada_score),color=\"m\")\n",
    "plt.legend(loc=4)\n",
    "plt.plot([1,0],[1,0],\"r--\")\n",
    "plt.title(\"ROC Curve - AdaBoost\")\n",
    "plt.xlabel(\"False Positive Rate\")\n",
    "plt.ylabel(\"True Positive Rate\");"
   ]
  },
  {
   "cell_type": "code",
   "execution_count": 91,
   "id": "be9e4d91",
   "metadata": {},
   "outputs": [],
   "source": [
    "ada_precision = metrics.precision_score(y_test,ada_predict)\n",
    "ada_recall = metrics.recall_score(y_test,ada_predict)\n",
    "ada_accuracy = metrics.accuracy_score(y_test,ada_predict)\n",
    "ada_kappa_score = metrics.cohen_kappa_score(y_test,ada_predict)"
   ]
  },
  {
   "cell_type": "code",
   "execution_count": 92,
   "id": "2e95bc45",
   "metadata": {},
   "outputs": [],
   "source": [
    "final = {\"Model\":[\"Decision Tree classifier - GINI\",\"Random Forest classifier\",\"Random Forest with Bagging\",\"AdaBoost classifier\"],\n",
    "         \"Precision\": [dt_precision,precision,b_precision,ada_precision], \n",
    "         \"Recall\":[dt_recall,recall,b_recall,ada_recall],\n",
    "         \"Accuracy\":[dt_accuracy,accuracy,b_accuracy,ada_accuracy],\n",
    "         \"Kappa\":[dt_kappa_score,kappa_score,b_kappa_score,ada_kappa_score]\n",
    "}"
   ]
  },
  {
   "cell_type": "code",
   "execution_count": 113,
   "id": "48e46e76",
   "metadata": {},
   "outputs": [
    {
     "data": {
      "text/html": [
       "<div>\n",
       "<style scoped>\n",
       "    .dataframe tbody tr th:only-of-type {\n",
       "        vertical-align: middle;\n",
       "    }\n",
       "\n",
       "    .dataframe tbody tr th {\n",
       "        vertical-align: top;\n",
       "    }\n",
       "\n",
       "    .dataframe thead th {\n",
       "        text-align: right;\n",
       "    }\n",
       "</style>\n",
       "<table border=\"1\" class=\"dataframe\">\n",
       "  <thead>\n",
       "    <tr style=\"text-align: right;\">\n",
       "      <th></th>\n",
       "      <th>Model</th>\n",
       "      <th>Precision</th>\n",
       "      <th>Recall</th>\n",
       "      <th>Accuracy</th>\n",
       "      <th>Kappa</th>\n",
       "    </tr>\n",
       "  </thead>\n",
       "  <tbody>\n",
       "    <tr>\n",
       "      <th>0</th>\n",
       "      <td>Decision Tree classifier - GINI</td>\n",
       "      <td>0.517502</td>\n",
       "      <td>0.543228</td>\n",
       "      <td>0.891802</td>\n",
       "      <td>0.468957</td>\n",
       "    </tr>\n",
       "    <tr>\n",
       "      <th>1</th>\n",
       "      <td>Random Forest classifier</td>\n",
       "      <td>0.517502</td>\n",
       "      <td>0.543228</td>\n",
       "      <td>0.891802</td>\n",
       "      <td>0.468957</td>\n",
       "    </tr>\n",
       "    <tr>\n",
       "      <th>2</th>\n",
       "      <td>Random Forest with Bagging</td>\n",
       "      <td>0.463100</td>\n",
       "      <td>0.904179</td>\n",
       "      <td>0.871490</td>\n",
       "      <td>0.544881</td>\n",
       "    </tr>\n",
       "    <tr>\n",
       "      <th>3</th>\n",
       "      <td>AdaBoost classifier</td>\n",
       "      <td>0.607914</td>\n",
       "      <td>0.365274</td>\n",
       "      <td>0.902242</td>\n",
       "      <td>0.406284</td>\n",
       "    </tr>\n",
       "  </tbody>\n",
       "</table>\n",
       "</div>"
      ],
      "text/plain": [
       "                             Model  Precision    Recall  Accuracy     Kappa\n",
       "0  Decision Tree classifier - GINI   0.517502  0.543228  0.891802  0.468957\n",
       "1         Random Forest classifier   0.517502  0.543228  0.891802  0.468957\n",
       "2       Random Forest with Bagging   0.463100  0.904179  0.871490  0.544881\n",
       "3              AdaBoost classifier   0.607914  0.365274  0.902242  0.406284"
      ]
     },
     "execution_count": 113,
     "metadata": {},
     "output_type": "execute_result"
    }
   ],
   "source": [
    "Results = pd.DataFrame(final)\n",
    "Results"
   ]
  },
  {
   "cell_type": "code",
   "execution_count": 117,
   "id": "7b98175f",
   "metadata": {},
   "outputs": [
    {
     "data": {
      "text/plain": [
       "0.6079136690647482"
      ]
     },
     "execution_count": 117,
     "metadata": {},
     "output_type": "execute_result"
    }
   ],
   "source": [
    "Results[\"Precision\"].max()"
   ]
  },
  {
   "cell_type": "code",
   "execution_count": 118,
   "id": "1f7f02fb",
   "metadata": {},
   "outputs": [
    {
     "data": {
      "text/plain": [
       "0.904178674351585"
      ]
     },
     "execution_count": 118,
     "metadata": {},
     "output_type": "execute_result"
    }
   ],
   "source": [
    "Results[\"Recall\"].max()"
   ]
  },
  {
   "cell_type": "code",
   "execution_count": 119,
   "id": "8e29797b",
   "metadata": {},
   "outputs": [
    {
     "data": {
      "text/plain": [
       "0.9022416444120741"
      ]
     },
     "execution_count": 119,
     "metadata": {},
     "output_type": "execute_result"
    }
   ],
   "source": [
    "Results[\"Accuracy\"].max()"
   ]
  },
  {
   "cell_type": "code",
   "execution_count": 120,
   "id": "45a8e072",
   "metadata": {},
   "outputs": [
    {
     "data": {
      "text/plain": [
       "0.5448811539356618"
      ]
     },
     "execution_count": 120,
     "metadata": {},
     "output_type": "execute_result"
    }
   ],
   "source": [
    "Results[\"Kappa\"].max()"
   ]
  },
  {
   "cell_type": "code",
   "execution_count": null,
   "id": "406b5328",
   "metadata": {},
   "outputs": [],
   "source": []
  },
  {
   "cell_type": "code",
   "execution_count": null,
   "id": "46564a46",
   "metadata": {},
   "outputs": [],
   "source": []
  }
 ],
 "metadata": {
  "kernelspec": {
   "display_name": "Python 3",
   "language": "python",
   "name": "python3"
  },
  "language_info": {
   "codemirror_mode": {
    "name": "ipython",
    "version": 3
   },
   "file_extension": ".py",
   "mimetype": "text/x-python",
   "name": "python",
   "nbconvert_exporter": "python",
   "pygments_lexer": "ipython3",
   "version": "3.8.8"
  }
 },
 "nbformat": 4,
 "nbformat_minor": 5
}
